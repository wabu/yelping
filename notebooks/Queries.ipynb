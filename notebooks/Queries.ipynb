{
 "cells": [
  {
   "cell_type": "markdown",
   "metadata": {},
   "source": [
    "This notebook shows some example queries ontop of the example dataset. First of all we load all the data into the sql context:"
   ]
  },
  {
   "cell_type": "code",
   "execution_count": 27,
   "metadata": {},
   "outputs": [
    {
     "data": {
      "text/plain": [
       "lastException: Throwable = null\n"
      ]
     },
     "metadata": {},
     "output_type": "display_data"
    }
   ],
   "source": [
    "for (set <- Seq(\"business\", \"checkin\", \"photos\", \"review\", \"user\", \"tip\")) {\n",
    "    spark.read.parquet(s\"/data/parquet/$set\").createOrReplaceTempView(set)\n",
    "}"
   ]
  },
  {
   "cell_type": "markdown",
   "metadata": {},
   "source": [
    "---\n",
    "For example, as users have a review count, we can look if that count matches the count of reviews by users inside the review data set:"
   ]
  },
  {
   "cell_type": "code",
   "execution_count": 93,
   "metadata": {},
   "outputs": [
    {
     "data": {
      "text/plain": [
       "diff = [diff: bigint, diff_num_occured: bigint]\n"
      ]
     },
     "metadata": {},
     "output_type": "display_data"
    },
    {
     "data": {
      "text/plain": [
       "[diff: bigint, diff_num_occured: bigint]"
      ]
     },
     "execution_count": 93,
     "metadata": {},
     "output_type": "execute_result"
    }
   ],
   "source": [
    "val diff = spark.sql(\"\"\"\n",
    "SELECT user.review_count - review.review_count AS diff, count(1) AS diff_num_occured \n",
    "FROM user JOIN \n",
    "     (SELECT user_id, count(1) as review_count \n",
    "      FROM review \n",
    "      GROUP BY user_id) AS review\n",
    "ON user.user_id == review.user_id\n",
    "GROUP BY diff\n",
    "\"\"\")"
   ]
  },
  {
   "cell_type": "code",
   "execution_count": 94,
   "metadata": {
    "scrolled": true
   },
   "outputs": [
    {
     "data": {
      "text/html": [
       "<table>\n",
       "<tr><td>29</td><td>4534</td></tr>\n",
       "<tr><td>26</td><td>5302</td></tr>\n",
       "<tr><td>474</td><td>22</td></tr>\n",
       "<tr><td>964</td><td>5</td></tr>\n",
       "<tr><td>2250</td><td>1</td></tr>\n",
       "<tr><td>2214</td><td>1</td></tr>\n",
       "</table>"
      ],
      "text/plain": [
       "+------+------+\n",
       "| 29   | 4534 |\n",
       "| 26   | 5302 |\n",
       "| 474  | 22   |\n",
       "| 964  | 5    |\n",
       "| 2250 | 1    |\n",
       "| 2214 | 1    |\n",
       "+------+------+"
      ]
     },
     "execution_count": 94,
     "metadata": {},
     "output_type": "execute_result"
    }
   ],
   "source": [
    "diff.head(6)"
   ]
  },
  {
   "cell_type": "code",
   "execution_count": 95,
   "metadata": {},
   "outputs": [
    {
     "data": {
      "text/html": [
       "<table>\n",
       "<tr><td>0</td><td>390381</td></tr>\n",
       "<tr><td>-3</td><td>108</td></tr>\n",
       "<tr><td>-35</td><td>1</td></tr>\n",
       "<tr><td>-60</td><td>1</td></tr>\n",
       "<tr><td>-25</td><td>3</td></tr>\n",
       "<tr><td>-49</td><td>3</td></tr>\n",
       "</table>"
      ],
      "text/plain": [
       "+-----+--------+\n",
       "| 0   | 390381 |\n",
       "| -3  | 108    |\n",
       "| -35 | 1      |\n",
       "| -60 | 1      |\n",
       "| -25 | 3      |\n",
       "| -49 | 3      |\n",
       "+-----+--------+"
      ]
     },
     "execution_count": 95,
     "metadata": {},
     "output_type": "execute_result"
    }
   ],
   "source": [
    "diff.filter(\"diff<=0\").head(6)"
   ]
  },
  {
   "cell_type": "markdown",
   "metadata": {},
   "source": [
    "This clearly shows that there are many differecies, mostly missing reviews in the review dataset, but for some users, the count of reviews inside the review dataset is higher as the review_count attriute of the user. "
   ]
  },
  {
   "cell_type": "markdown",
   "metadata": {},
   "source": [
    "---\n",
    "\n",
    "We can also look if all bussniss_id's inside checkin, photos, reviews and tip are matchin the business dataset:"
   ]
  },
  {
   "cell_type": "code",
   "execution_count": 91,
   "metadata": {},
   "outputs": [
    {
     "data": {
      "text/plain": [
       "missing: (set: String)String\n"
      ]
     },
     "metadata": {},
     "output_type": "display_data"
    },
    {
     "data": {
      "text/plain": [
       "[missing_business: bigint, missing_review: bigint]"
      ]
     },
     "execution_count": 91,
     "metadata": {},
     "output_type": "execute_result"
    }
   ],
   "source": [
    "def missing(set: String): String = s\"\"\"\n",
    "SELECT sum(IF(business.business_id IS NULL, 1, 0)) as missing_business,\n",
    "       sum(IF($set.business_id IS NULL, 1, 0)) as missing_$set\n",
    "FROM business FULL OUTER JOIN $set\n",
    "ON business.business_id == $set.business_id\n",
    "\"\"\"\n",
    "\n",
    "spark.sql(missing(\"review\"))"
   ]
  },
  {
   "cell_type": "code",
   "execution_count": 92,
   "metadata": {},
   "outputs": [
    {
     "data": {
      "text/html": [
       "<table>\n",
       "<tr><td>0</td><td>28217</td></tr>\n",
       "</table>"
      ],
      "text/plain": [
       "+-----+-------+\n",
       "| 0   | 28217 |\n",
       "+-----+-------+"
      ]
     },
     "execution_count": 92,
     "metadata": {},
     "output_type": "execute_result"
    }
   ],
   "source": [
    "spark.sql(missing(\"checkin\")).head(1)"
   ]
  },
  {
   "cell_type": "code",
   "execution_count": 88,
   "metadata": {},
   "outputs": [
    {
     "data": {
      "text/html": [
       "<table>\n",
       "<tr><td>0</td><td>145470</td></tr>\n",
       "</table>"
      ],
      "text/plain": [
       "+-----+--------+\n",
       "| 0   | 145470 |\n",
       "+-----+--------+"
      ]
     },
     "execution_count": 88,
     "metadata": {},
     "output_type": "execute_result"
    }
   ],
   "source": [
    "spark.sql(missing(\"photos\")).head(1)"
   ]
  },
  {
   "cell_type": "code",
   "execution_count": 89,
   "metadata": {},
   "outputs": [
    {
     "data": {
      "text/html": [
       "<table>\n",
       "<tr><td>0</td><td>0</td></tr>\n",
       "</table>"
      ],
      "text/plain": [
       "+-----+-----+\n",
       "| 0   | 0   |\n",
       "+-----+-----+"
      ]
     },
     "execution_count": 89,
     "metadata": {},
     "output_type": "execute_result"
    }
   ],
   "source": [
    "spark.sql(missing(\"review\")).head(1)"
   ]
  },
  {
   "cell_type": "code",
   "execution_count": 90,
   "metadata": {},
   "outputs": [
    {
     "data": {
      "text/html": [
       "<table>\n",
       "<tr><td>0</td><td>62201</td></tr>\n",
       "</table>"
      ],
      "text/plain": [
       "+-----+-------+\n",
       "| 0   | 62201 |\n",
       "+-----+-------+"
      ]
     },
     "execution_count": 90,
     "metadata": {},
     "output_type": "execute_result"
    }
   ],
   "source": [
    "spark.sql(missing(\"tip\")).head(1)"
   ]
  },
  {
   "cell_type": "markdown",
   "metadata": {},
   "source": [
    "So here we can see that no entry form the other sets is missing inside the bussiness set. Furthermore all businesses have at least one review."
   ]
  }
 ],
 "metadata": {
  "kernelspec": {
   "display_name": "Apache Toree - Scala",
   "language": "scala",
   "name": "apache_toree_scala"
  },
  "language_info": {
   "codemirror_mode": "text/x-scala",
   "file_extension": ".scala",
   "mimetype": "text/x-scala",
   "name": "scala",
   "pygments_lexer": "scala",
   "version": "2.11.8"
  }
 },
 "nbformat": 4,
 "nbformat_minor": 2
}
