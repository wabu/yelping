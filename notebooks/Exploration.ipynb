{
 "cells": [
  {
   "cell_type": "code",
   "execution_count": 1,
   "metadata": {},
   "outputs": [
    {
     "data": {
      "text/html": [
       "<ul>\n",
       "<li><a href=\"Some(http://def41f071189:4041)\" target=\"new_tab\">Spark UI: local-1528986082013</a></li>\n",
       "</ul>"
      ],
      "text/plain": [
       "Spark local-1528986082013: Some(http://def41f071189:4041)"
      ]
     },
     "execution_count": 1,
     "metadata": {},
     "output_type": "execute_result"
    }
   ],
   "source": [
    "spark"
   ]
  },
  {
   "cell_type": "code",
   "execution_count": 2,
   "metadata": {},
   "outputs": [
    {
     "data": {
      "text/plain": [
       "path = /data/dataset\n"
      ]
     },
     "metadata": {},
     "output_type": "display_data"
    },
    {
     "data": {
      "text/plain": [
       "/data/dataset"
      ]
     },
     "execution_count": 2,
     "metadata": {},
     "output_type": "execute_result"
    }
   ],
   "source": [
    "val path = \"/data/dataset\""
   ]
  },
  {
   "cell_type": "markdown",
   "metadata": {},
   "source": [
    "Spark is fine and we can start having a look at the data:"
   ]
  },
  {
   "cell_type": "code",
   "execution_count": 3,
   "metadata": {},
   "outputs": [
    {
     "data": {
      "text/plain": [
       "business = [address: string, attributes: struct<AcceptsInsurance: boolean, AgesAllowed: string ... 37 more fields> ... 13 more fields]\n"
      ]
     },
     "metadata": {},
     "output_type": "display_data"
    },
    {
     "data": {
      "text/plain": [
       "[address: string, attributes: struct<AcceptsInsurance: boolean, AgesAllowed: string ... 37 more fields> ... 13 more fields]"
      ]
     },
     "execution_count": 3,
     "metadata": {},
     "output_type": "execute_result"
    }
   ],
   "source": [
    "val business = spark.read.json(s\"$path/business.json\")"
   ]
  },
  {
   "cell_type": "code",
   "execution_count": 4,
   "metadata": {
    "scrolled": false
   },
   "outputs": [
    {
     "name": "stdout",
     "output_type": "stream",
     "text": [
      "root\n",
      " |-- address: string (nullable = true)\n",
      " |-- attributes: struct (nullable = true)\n",
      " |    |-- AcceptsInsurance: boolean (nullable = true)\n",
      " |    |-- AgesAllowed: string (nullable = true)\n",
      " |    |-- Alcohol: string (nullable = true)\n",
      " |    |-- Ambience: struct (nullable = true)\n",
      " |    |    |-- casual: boolean (nullable = true)\n",
      " |    |    |-- classy: boolean (nullable = true)\n",
      " |    |    |-- divey: boolean (nullable = true)\n",
      " |    |    |-- hipster: boolean (nullable = true)\n",
      " |    |    |-- intimate: boolean (nullable = true)\n",
      " |    |    |-- romantic: boolean (nullable = true)\n",
      " |    |    |-- touristy: boolean (nullable = true)\n",
      " |    |    |-- trendy: boolean (nullable = true)\n",
      " |    |    |-- upscale: boolean (nullable = true)\n",
      " |    |-- BYOB: boolean (nullable = true)\n",
      " |    |-- BYOBCorkage: string (nullable = true)\n",
      " |    |-- BestNights: struct (nullable = true)\n",
      " |    |    |-- friday: boolean (nullable = true)\n",
      " |    |    |-- monday: boolean (nullable = true)\n",
      " |    |    |-- saturday: boolean (nullable = true)\n",
      " |    |    |-- sunday: boolean (nullable = true)\n",
      " |    |    |-- thursday: boolean (nullable = true)\n",
      " |    |    |-- tuesday: boolean (nullable = true)\n",
      " |    |    |-- wednesday: boolean (nullable = true)\n",
      " |    |-- BikeParking: boolean (nullable = true)\n",
      " |    |-- BusinessAcceptsBitcoin: boolean (nullable = true)\n",
      " |    |-- BusinessAcceptsCreditCards: boolean (nullable = true)\n",
      " |    |-- BusinessParking: struct (nullable = true)\n",
      " |    |    |-- garage: boolean (nullable = true)\n",
      " |    |    |-- lot: boolean (nullable = true)\n",
      " |    |    |-- street: boolean (nullable = true)\n",
      " |    |    |-- valet: boolean (nullable = true)\n",
      " |    |    |-- validated: boolean (nullable = true)\n",
      " |    |-- ByAppointmentOnly: boolean (nullable = true)\n",
      " |    |-- Caters: boolean (nullable = true)\n",
      " |    |-- CoatCheck: boolean (nullable = true)\n",
      " |    |-- Corkage: boolean (nullable = true)\n",
      " |    |-- DietaryRestrictions: struct (nullable = true)\n",
      " |    |    |-- dairy-free: boolean (nullable = true)\n",
      " |    |    |-- gluten-free: boolean (nullable = true)\n",
      " |    |    |-- halal: boolean (nullable = true)\n",
      " |    |    |-- kosher: boolean (nullable = true)\n",
      " |    |    |-- soy-free: boolean (nullable = true)\n",
      " |    |    |-- vegan: boolean (nullable = true)\n",
      " |    |    |-- vegetarian: boolean (nullable = true)\n",
      " |    |-- DogsAllowed: boolean (nullable = true)\n",
      " |    |-- DriveThru: boolean (nullable = true)\n",
      " |    |-- GoodForDancing: boolean (nullable = true)\n",
      " |    |-- GoodForKids: boolean (nullable = true)\n",
      " |    |-- GoodForMeal: struct (nullable = true)\n",
      " |    |    |-- breakfast: boolean (nullable = true)\n",
      " |    |    |-- brunch: boolean (nullable = true)\n",
      " |    |    |-- dessert: boolean (nullable = true)\n",
      " |    |    |-- dinner: boolean (nullable = true)\n",
      " |    |    |-- latenight: boolean (nullable = true)\n",
      " |    |    |-- lunch: boolean (nullable = true)\n",
      " |    |-- HairSpecializesIn: struct (nullable = true)\n",
      " |    |    |-- africanamerican: boolean (nullable = true)\n",
      " |    |    |-- asian: boolean (nullable = true)\n",
      " |    |    |-- coloring: boolean (nullable = true)\n",
      " |    |    |-- curly: boolean (nullable = true)\n",
      " |    |    |-- extensions: boolean (nullable = true)\n",
      " |    |    |-- kids: boolean (nullable = true)\n",
      " |    |    |-- perms: boolean (nullable = true)\n",
      " |    |    |-- straightperms: boolean (nullable = true)\n",
      " |    |-- HappyHour: boolean (nullable = true)\n",
      " |    |-- HasTV: boolean (nullable = true)\n",
      " |    |-- Music: struct (nullable = true)\n",
      " |    |    |-- background_music: boolean (nullable = true)\n",
      " |    |    |-- dj: boolean (nullable = true)\n",
      " |    |    |-- jukebox: boolean (nullable = true)\n",
      " |    |    |-- karaoke: boolean (nullable = true)\n",
      " |    |    |-- live: boolean (nullable = true)\n",
      " |    |    |-- no_music: boolean (nullable = true)\n",
      " |    |    |-- video: boolean (nullable = true)\n",
      " |    |-- NoiseLevel: string (nullable = true)\n",
      " |    |-- Open24Hours: boolean (nullable = true)\n",
      " |    |-- OutdoorSeating: boolean (nullable = true)\n",
      " |    |-- RestaurantsAttire: string (nullable = true)\n",
      " |    |-- RestaurantsCounterService: boolean (nullable = true)\n",
      " |    |-- RestaurantsDelivery: boolean (nullable = true)\n",
      " |    |-- RestaurantsGoodForGroups: boolean (nullable = true)\n",
      " |    |-- RestaurantsPriceRange2: long (nullable = true)\n",
      " |    |-- RestaurantsReservations: boolean (nullable = true)\n",
      " |    |-- RestaurantsTableService: boolean (nullable = true)\n",
      " |    |-- RestaurantsTakeOut: boolean (nullable = true)\n",
      " |    |-- Smoking: string (nullable = true)\n",
      " |    |-- WheelchairAccessible: boolean (nullable = true)\n",
      " |    |-- WiFi: string (nullable = true)\n",
      " |-- business_id: string (nullable = true)\n",
      " |-- categories: array (nullable = true)\n",
      " |    |-- element: string (containsNull = true)\n",
      " |-- city: string (nullable = true)\n",
      " |-- hours: struct (nullable = true)\n",
      " |    |-- Friday: string (nullable = true)\n",
      " |    |-- Monday: string (nullable = true)\n",
      " |    |-- Saturday: string (nullable = true)\n",
      " |    |-- Sunday: string (nullable = true)\n",
      " |    |-- Thursday: string (nullable = true)\n",
      " |    |-- Tuesday: string (nullable = true)\n",
      " |    |-- Wednesday: string (nullable = true)\n",
      " |-- is_open: long (nullable = true)\n",
      " |-- latitude: double (nullable = true)\n",
      " |-- longitude: double (nullable = true)\n",
      " |-- name: string (nullable = true)\n",
      " |-- neighborhood: string (nullable = true)\n",
      " |-- postal_code: string (nullable = true)\n",
      " |-- review_count: long (nullable = true)\n",
      " |-- stars: double (nullable = true)\n",
      " |-- state: string (nullable = true)\n",
      "\n"
     ]
    }
   ],
   "source": [
    "business.printSchema()"
   ]
  },
  {
   "cell_type": "code",
   "execution_count": 8,
   "metadata": {},
   "outputs": [
    {
     "data": {
      "text/plain": [
       "[4855 E Warner Rd, Ste B9,[true,null,null,null,null,null,null,null,null,true,null,true,null,null,null,null,null,null,null,null,null,null,null,null,null,null,null,null,null,null,null,null,null,null,null,null,null,null,null],FYWN1wneV18bWNgQjJ2GNg,WrappedArray(Dentists, General Dentistry, Health & Medical, Oral Surgeons, Cosmetic Dentists, Orthodontists),Ahwatukee,[7:30-17:00,7:30-17:00,null,null,7:30-17:00,7:30-17:00,7:30-17:00],1,33.3306902,-111.9785992,Dental by Design,,85044,22,4.0,AZ]"
      ]
     },
     "execution_count": 8,
     "metadata": {},
     "output_type": "execute_result"
    }
   ],
   "source": [
    "business.head()"
   ]
  },
  {
   "cell_type": "code",
   "execution_count": 5,
   "metadata": {},
   "outputs": [
    {
     "data": {
      "text/plain": [
       "174567"
      ]
     },
     "execution_count": 5,
     "metadata": {},
     "output_type": "execute_result"
    }
   ],
   "source": [
    "business.count()"
   ]
  },
  {
   "cell_type": "markdown",
   "metadata": {},
   "source": [
    "The attributation seems a little complex, but reading the data works as expected and all fields look good, so we can continue to get in touch with rest of the dataset:\n",
    "\n",
    "---"
   ]
  },
  {
   "cell_type": "code",
   "execution_count": 9,
   "metadata": {},
   "outputs": [
    {
     "data": {
      "text/plain": [
       "checkin = [business_id: string, time: struct<Friday: struct<0:00: bigint, 10:00: bigint ... 22 more fields>, Monday: struct<0:00: bigint, 10:00: bigint ... 22 more fields> ... 5 more fields>]\n"
      ]
     },
     "metadata": {},
     "output_type": "display_data"
    },
    {
     "data": {
      "text/plain": [
       "[business_id: string, time: struct<Friday: struct<0:00: bigint, 10:00: bigint ... 22 more fields>, Monday: struct<0:00: bigint, 10:00: bigint ... 22 more fields> ... 5 more fields>]"
      ]
     },
     "execution_count": 9,
     "metadata": {},
     "output_type": "execute_result"
    }
   ],
   "source": [
    "val checkin = spark.read.json(s\"$path/checkin.json\")"
   ]
  },
  {
   "cell_type": "code",
   "execution_count": 10,
   "metadata": {
    "scrolled": false
   },
   "outputs": [
    {
     "name": "stdout",
     "output_type": "stream",
     "text": [
      "root\n",
      " |-- business_id: string (nullable = true)\n",
      " |-- time: struct (nullable = true)\n",
      " |    |-- Friday: struct (nullable = true)\n",
      " |    |    |-- 0:00: long (nullable = true)\n",
      " |    |    |-- 10:00: long (nullable = true)\n",
      " |    |    |-- 11:00: long (nullable = true)\n",
      " |    |    |-- 12:00: long (nullable = true)\n",
      " |    |    |-- 13:00: long (nullable = true)\n",
      " |    |    |-- 14:00: long (nullable = true)\n",
      " |    |    |-- 15:00: long (nullable = true)\n",
      " |    |    |-- 16:00: long (nullable = true)\n",
      " |    |    |-- 17:00: long (nullable = true)\n",
      " |    |    |-- 18:00: long (nullable = true)\n",
      " |    |    |-- 19:00: long (nullable = true)\n",
      " |    |    |-- 1:00: long (nullable = true)\n",
      " |    |    |-- 20:00: long (nullable = true)\n",
      " |    |    |-- 21:00: long (nullable = true)\n",
      " |    |    |-- 22:00: long (nullable = true)\n",
      " |    |    |-- 23:00: long (nullable = true)\n",
      " |    |    |-- 2:00: long (nullable = true)\n",
      " |    |    |-- 3:00: long (nullable = true)\n",
      " |    |    |-- 4:00: long (nullable = true)\n",
      " |    |    |-- 5:00: long (nullable = true)\n",
      " |    |    |-- 6:00: long (nullable = true)\n",
      " |    |    |-- 7:00: long (nullable = true)\n",
      " |    |    |-- 8:00: long (nullable = true)\n",
      " |    |    |-- 9:00: long (nullable = true)\n",
      " |    |-- Monday: struct (nullable = true)\n",
      " |    |    |-- 0:00: long (nullable = true)\n",
      " |    |    |-- 10:00: long (nullable = true)\n",
      " |    |    |-- 11:00: long (nullable = true)\n",
      " |    |    |-- 12:00: long (nullable = true)\n",
      " |    |    |-- 13:00: long (nullable = true)\n",
      " |    |    |-- 14:00: long (nullable = true)\n",
      " |    |    |-- 15:00: long (nullable = true)\n",
      " |    |    |-- 16:00: long (nullable = true)\n",
      " |    |    |-- 17:00: long (nullable = true)\n",
      " |    |    |-- 18:00: long (nullable = true)\n",
      " |    |    |-- 19:00: long (nullable = true)\n",
      " |    |    |-- 1:00: long (nullable = true)\n",
      " |    |    |-- 20:00: long (nullable = true)\n",
      " |    |    |-- 21:00: long (nullable = true)\n",
      " |    |    |-- 22:00: long (nullable = true)\n",
      " |    |    |-- 23:00: long (nullable = true)\n",
      " |    |    |-- 2:00: long (nullable = true)\n",
      " |    |    |-- 3:00: long (nullable = true)\n",
      " |    |    |-- 4:00: long (nullable = true)\n",
      " |    |    |-- 5:00: long (nullable = true)\n",
      " |    |    |-- 6:00: long (nullable = true)\n",
      " |    |    |-- 7:00: long (nullable = true)\n",
      " |    |    |-- 8:00: long (nullable = true)\n",
      " |    |    |-- 9:00: long (nullable = true)\n",
      " |    |-- Saturday: struct (nullable = true)\n",
      " |    |    |-- 0:00: long (nullable = true)\n",
      " |    |    |-- 10:00: long (nullable = true)\n",
      " |    |    |-- 11:00: long (nullable = true)\n",
      " |    |    |-- 12:00: long (nullable = true)\n",
      " |    |    |-- 13:00: long (nullable = true)\n",
      " |    |    |-- 14:00: long (nullable = true)\n",
      " |    |    |-- 15:00: long (nullable = true)\n",
      " |    |    |-- 16:00: long (nullable = true)\n",
      " |    |    |-- 17:00: long (nullable = true)\n",
      " |    |    |-- 18:00: long (nullable = true)\n",
      " |    |    |-- 19:00: long (nullable = true)\n",
      " |    |    |-- 1:00: long (nullable = true)\n",
      " |    |    |-- 20:00: long (nullable = true)\n",
      " |    |    |-- 21:00: long (nullable = true)\n",
      " |    |    |-- 22:00: long (nullable = true)\n",
      " |    |    |-- 23:00: long (nullable = true)\n",
      " |    |    |-- 2:00: long (nullable = true)\n",
      " |    |    |-- 3:00: long (nullable = true)\n",
      " |    |    |-- 4:00: long (nullable = true)\n",
      " |    |    |-- 5:00: long (nullable = true)\n",
      " |    |    |-- 6:00: long (nullable = true)\n",
      " |    |    |-- 7:00: long (nullable = true)\n",
      " |    |    |-- 8:00: long (nullable = true)\n",
      " |    |    |-- 9:00: long (nullable = true)\n",
      " |    |-- Sunday: struct (nullable = true)\n",
      " |    |    |-- 0:00: long (nullable = true)\n",
      " |    |    |-- 10:00: long (nullable = true)\n",
      " |    |    |-- 11:00: long (nullable = true)\n",
      " |    |    |-- 12:00: long (nullable = true)\n",
      " |    |    |-- 13:00: long (nullable = true)\n",
      " |    |    |-- 14:00: long (nullable = true)\n",
      " |    |    |-- 15:00: long (nullable = true)\n",
      " |    |    |-- 16:00: long (nullable = true)\n",
      " |    |    |-- 17:00: long (nullable = true)\n",
      " |    |    |-- 18:00: long (nullable = true)\n",
      " |    |    |-- 19:00: long (nullable = true)\n",
      " |    |    |-- 1:00: long (nullable = true)\n",
      " |    |    |-- 20:00: long (nullable = true)\n",
      " |    |    |-- 21:00: long (nullable = true)\n",
      " |    |    |-- 22:00: long (nullable = true)\n",
      " |    |    |-- 23:00: long (nullable = true)\n",
      " |    |    |-- 2:00: long (nullable = true)\n",
      " |    |    |-- 3:00: long (nullable = true)\n",
      " |    |    |-- 4:00: long (nullable = true)\n",
      " |    |    |-- 5:00: long (nullable = true)\n",
      " |    |    |-- 6:00: long (nullable = true)\n",
      " |    |    |-- 7:00: long (nullable = true)\n",
      " |    |    |-- 8:00: long (nullable = true)\n",
      " |    |    |-- 9:00: long (nullable = true)\n",
      " |    |-- Thursday: struct (nullable = true)\n",
      " |    |    |-- 0:00: long (nullable = true)\n",
      " |    |    |-- 10:00: long (nullable = true)\n",
      " |    |    |-- 11:00: long (nullable = true)\n",
      " |    |    |-- 12:00: long (nullable = true)\n",
      " |    |    |-- 13:00: long (nullable = true)\n",
      " |    |    |-- 14:00: long (nullable = true)\n",
      " |    |    |-- 15:00: long (nullable = true)\n",
      " |    |    |-- 16:00: long (nullable = true)\n",
      " |    |    |-- 17:00: long (nullable = true)\n",
      " |    |    |-- 18:00: long (nullable = true)\n",
      " |    |    |-- 19:00: long (nullable = true)\n",
      " |    |    |-- 1:00: long (nullable = true)\n",
      " |    |    |-- 20:00: long (nullable = true)\n",
      " |    |    |-- 21:00: long (nullable = true)\n",
      " |    |    |-- 22:00: long (nullable = true)\n",
      " |    |    |-- 23:00: long (nullable = true)\n",
      " |    |    |-- 2:00: long (nullable = true)\n",
      " |    |    |-- 3:00: long (nullable = true)\n",
      " |    |    |-- 4:00: long (nullable = true)\n",
      " |    |    |-- 5:00: long (nullable = true)\n",
      " |    |    |-- 6:00: long (nullable = true)\n",
      " |    |    |-- 7:00: long (nullable = true)\n",
      " |    |    |-- 8:00: long (nullable = true)\n",
      " |    |    |-- 9:00: long (nullable = true)\n",
      " |    |-- Tuesday: struct (nullable = true)\n",
      " |    |    |-- 0:00: long (nullable = true)\n",
      " |    |    |-- 10:00: long (nullable = true)\n",
      " |    |    |-- 11:00: long (nullable = true)\n",
      " |    |    |-- 12:00: long (nullable = true)\n",
      " |    |    |-- 13:00: long (nullable = true)\n",
      " |    |    |-- 14:00: long (nullable = true)\n",
      " |    |    |-- 15:00: long (nullable = true)\n",
      " |    |    |-- 16:00: long (nullable = true)\n",
      " |    |    |-- 17:00: long (nullable = true)\n",
      " |    |    |-- 18:00: long (nullable = true)\n",
      " |    |    |-- 19:00: long (nullable = true)\n",
      " |    |    |-- 1:00: long (nullable = true)\n",
      " |    |    |-- 20:00: long (nullable = true)\n",
      " |    |    |-- 21:00: long (nullable = true)\n",
      " |    |    |-- 22:00: long (nullable = true)\n",
      " |    |    |-- 23:00: long (nullable = true)\n",
      " |    |    |-- 2:00: long (nullable = true)\n",
      " |    |    |-- 3:00: long (nullable = true)\n",
      " |    |    |-- 4:00: long (nullable = true)\n",
      " |    |    |-- 5:00: long (nullable = true)\n",
      " |    |    |-- 6:00: long (nullable = true)\n",
      " |    |    |-- 7:00: long (nullable = true)\n",
      " |    |    |-- 8:00: long (nullable = true)\n",
      " |    |    |-- 9:00: long (nullable = true)\n",
      " |    |-- Wednesday: struct (nullable = true)\n",
      " |    |    |-- 0:00: long (nullable = true)\n",
      " |    |    |-- 10:00: long (nullable = true)\n",
      " |    |    |-- 11:00: long (nullable = true)\n",
      " |    |    |-- 12:00: long (nullable = true)\n",
      " |    |    |-- 13:00: long (nullable = true)\n",
      " |    |    |-- 14:00: long (nullable = true)\n",
      " |    |    |-- 15:00: long (nullable = true)\n",
      " |    |    |-- 16:00: long (nullable = true)\n",
      " |    |    |-- 17:00: long (nullable = true)\n",
      " |    |    |-- 18:00: long (nullable = true)\n",
      " |    |    |-- 19:00: long (nullable = true)\n",
      " |    |    |-- 1:00: long (nullable = true)\n",
      " |    |    |-- 20:00: long (nullable = true)\n",
      " |    |    |-- 21:00: long (nullable = true)\n",
      " |    |    |-- 22:00: long (nullable = true)\n",
      " |    |    |-- 23:00: long (nullable = true)\n",
      " |    |    |-- 2:00: long (nullable = true)\n",
      " |    |    |-- 3:00: long (nullable = true)\n",
      " |    |    |-- 4:00: long (nullable = true)\n",
      " |    |    |-- 5:00: long (nullable = true)\n",
      " |    |    |-- 6:00: long (nullable = true)\n",
      " |    |    |-- 7:00: long (nullable = true)\n",
      " |    |    |-- 8:00: long (nullable = true)\n",
      " |    |    |-- 9:00: long (nullable = true)\n",
      "\n"
     ]
    }
   ],
   "source": [
    "checkin.printSchema()"
   ]
  },
  {
   "cell_type": "code",
   "execution_count": 11,
   "metadata": {},
   "outputs": [
    {
     "data": {
      "text/plain": [
       "[7KPBkxAOEtb3QeIL9PEErg,[[2,2,null,null,null,2,1,1,1,1,3,null,null,4,2,1,null,1,null,null,null,null,null,null],[null,null,1,1,null,1,1,null,3,1,1,null,1,null,null,1,null,null,1,null,null,null,null,null],[1,1,null,1,3,1,1,2,4,4,null,3,null,1,null,3,1,null,null,null,null,null,null,null],[1,null,null,null,null,1,null,1,1,1,2,null,5,1,null,1,2,3,null,null,1,null,null,null],[null,null,null,null,1,null,2,null,null,1,1,1,4,4,1,2,1,null,1,null,null,null,null,null],[null,null,null,1,2,null,1,1,1,2,null,null,2,1,null,2,null,null,1,null,null,null,null,null],[2,null,2,null,2,1,null,null,1,1,1,1,3,1,null,null,1,null,null,null,1,null,null,null]]]"
      ]
     },
     "execution_count": 11,
     "metadata": {},
     "output_type": "execute_result"
    }
   ],
   "source": [
    "checkin.head()"
   ]
  },
  {
   "cell_type": "code",
   "execution_count": 12,
   "metadata": {},
   "outputs": [
    {
     "data": {
      "text/plain": [
       "146350"
      ]
     },
     "execution_count": 12,
     "metadata": {},
     "output_type": "execute_result"
    }
   ],
   "source": [
    "checkin.count()"
   ]
  },
  {
   "cell_type": "markdown",
   "metadata": {},
   "source": [
    "---"
   ]
  },
  {
   "cell_type": "code",
   "execution_count": 17,
   "metadata": {},
   "outputs": [
    {
     "data": {
      "text/plain": [
       "photos = [business_id: string, caption: string ... 2 more fields]\n"
      ]
     },
     "metadata": {},
     "output_type": "display_data"
    },
    {
     "data": {
      "text/plain": [
       "[business_id: string, caption: string ... 2 more fields]"
      ]
     },
     "execution_count": 17,
     "metadata": {},
     "output_type": "execute_result"
    }
   ],
   "source": [
    "val photos = spark.read.json(s\"$path/photos.json\")"
   ]
  },
  {
   "cell_type": "code",
   "execution_count": 18,
   "metadata": {},
   "outputs": [
    {
     "name": "stdout",
     "output_type": "stream",
     "text": [
      "root\n",
      " |-- business_id: string (nullable = true)\n",
      " |-- caption: string (nullable = true)\n",
      " |-- label: string (nullable = true)\n",
      " |-- photo_id: string (nullable = true)\n",
      "\n"
     ]
    }
   ],
   "source": [
    "photos.printSchema()"
   ]
  },
  {
   "cell_type": "code",
   "execution_count": 19,
   "metadata": {},
   "outputs": [
    {
     "data": {
      "text/plain": [
       "[OnAzbTDn79W6CFZIriqLrA,,inside,soK1szeyan202jnsGhUDmA]"
      ]
     },
     "execution_count": 19,
     "metadata": {},
     "output_type": "execute_result"
    }
   ],
   "source": [
    "photos.head()"
   ]
  },
  {
   "cell_type": "code",
   "execution_count": 20,
   "metadata": {},
   "outputs": [
    {
     "data": {
      "text/plain": [
       "206949"
      ]
     },
     "execution_count": 20,
     "metadata": {},
     "output_type": "execute_result"
    }
   ],
   "source": [
    "photos.count()"
   ]
  },
  {
   "cell_type": "markdown",
   "metadata": {},
   "source": [
    "---"
   ]
  },
  {
   "cell_type": "code",
   "execution_count": 25,
   "metadata": {},
   "outputs": [
    {
     "data": {
      "text/plain": [
       "review = [business_id: string, cool: bigint ... 7 more fields]\n"
      ]
     },
     "metadata": {},
     "output_type": "display_data"
    },
    {
     "data": {
      "text/plain": [
       "[business_id: string, cool: bigint ... 7 more fields]"
      ]
     },
     "execution_count": 25,
     "metadata": {},
     "output_type": "execute_result"
    }
   ],
   "source": [
    "val review = spark.read.json(s\"$path/review.json\")"
   ]
  },
  {
   "cell_type": "code",
   "execution_count": 26,
   "metadata": {},
   "outputs": [
    {
     "name": "stdout",
     "output_type": "stream",
     "text": [
      "root\n",
      " |-- business_id: string (nullable = true)\n",
      " |-- cool: long (nullable = true)\n",
      " |-- date: string (nullable = true)\n",
      " |-- funny: long (nullable = true)\n",
      " |-- review_id: string (nullable = true)\n",
      " |-- stars: long (nullable = true)\n",
      " |-- text: string (nullable = true)\n",
      " |-- useful: long (nullable = true)\n",
      " |-- user_id: string (nullable = true)\n",
      "\n"
     ]
    }
   ],
   "source": [
    "review.printSchema()"
   ]
  },
  {
   "cell_type": "code",
   "execution_count": 27,
   "metadata": {},
   "outputs": [
    {
     "data": {
      "text/plain": [
       "[0W4lkclzZThpx3V65bVgig,0,2016-05-28,0,v0i_UHJMo_hPBq9bxWvW4w,5,Love the staff, love the meat, love the place. Prepare for a long line around lunch or dinner hours. \n",
       "\n",
       "They ask you how you want you meat, lean or something maybe, I can't remember. Just say you don't want it too fatty. \n",
       "\n",
       "Get a half sour pickle and a hot pepper. Hand cut french fries too.,0,bv2nCi5Qv5vroFiqKGopiw]"
      ]
     },
     "execution_count": 27,
     "metadata": {},
     "output_type": "execute_result"
    }
   ],
   "source": [
    "review.head()"
   ]
  },
  {
   "cell_type": "code",
   "execution_count": 28,
   "metadata": {},
   "outputs": [
    {
     "data": {
      "text/plain": [
       "5261669"
      ]
     },
     "execution_count": 28,
     "metadata": {},
     "output_type": "execute_result"
    }
   ],
   "source": [
    "review.count()"
   ]
  },
  {
   "cell_type": "markdown",
   "metadata": {},
   "source": [
    "---"
   ]
  },
  {
   "cell_type": "code",
   "execution_count": 30,
   "metadata": {},
   "outputs": [
    {
     "data": {
      "text/plain": [
       "user = [average_stars: double, compliment_cool: bigint ... 20 more fields]\n"
      ]
     },
     "metadata": {},
     "output_type": "display_data"
    },
    {
     "data": {
      "text/plain": [
       "[average_stars: double, compliment_cool: bigint ... 20 more fields]"
      ]
     },
     "execution_count": 30,
     "metadata": {},
     "output_type": "execute_result"
    }
   ],
   "source": [
    "val user = spark.read.json(s\"$path/user.json\")"
   ]
  },
  {
   "cell_type": "code",
   "execution_count": 31,
   "metadata": {},
   "outputs": [
    {
     "name": "stdout",
     "output_type": "stream",
     "text": [
      "root\n",
      " |-- average_stars: double (nullable = true)\n",
      " |-- compliment_cool: long (nullable = true)\n",
      " |-- compliment_cute: long (nullable = true)\n",
      " |-- compliment_funny: long (nullable = true)\n",
      " |-- compliment_hot: long (nullable = true)\n",
      " |-- compliment_list: long (nullable = true)\n",
      " |-- compliment_more: long (nullable = true)\n",
      " |-- compliment_note: long (nullable = true)\n",
      " |-- compliment_photos: long (nullable = true)\n",
      " |-- compliment_plain: long (nullable = true)\n",
      " |-- compliment_profile: long (nullable = true)\n",
      " |-- compliment_writer: long (nullable = true)\n",
      " |-- cool: long (nullable = true)\n",
      " |-- elite: array (nullable = true)\n",
      " |    |-- element: long (containsNull = true)\n",
      " |-- fans: long (nullable = true)\n",
      " |-- friends: array (nullable = true)\n",
      " |    |-- element: string (containsNull = true)\n",
      " |-- funny: long (nullable = true)\n",
      " |-- name: string (nullable = true)\n",
      " |-- review_count: long (nullable = true)\n",
      " |-- useful: long (nullable = true)\n",
      " |-- user_id: string (nullable = true)\n",
      " |-- yelping_since: string (nullable = true)\n",
      "\n"
     ]
    }
   ],
   "source": [
    "user.printSchema()"
   ]
  },
  {
   "cell_type": "code",
   "execution_count": 32,
   "metadata": {},
   "outputs": [
    {
     "data": {
      "text/plain": [
       "[4.67,0,0,0,0,0,0,0,0,1,0,0,0,WrappedArray(),0,WrappedArray(cvVMmlU1ouS3I5fhutaryQ, nj6UZ8tdGo8YJ9lUMTVWNw, RTtdEVhAmeWqCSp0IgJ99w, t3UKA1sl4e6LY_xsjuvI0A, s057_BvOfnKNvQquJf7VNg, VYrdepCgdzJ4WaxP7dBGpg, XXLSk6sQQDyr3dZ4zE-O0g, Py8ThfExQaXF2Woqr7kWUw, 233YNvzVtZ1ObkaNkUzNIw, L6iE9NpmHHJQTk0JQlRlSA, Y7XTMgZ_q5Bj5f9KhK1R4Q),0,Johnny,8,0,oMy_rEb0UBEmMlu-zcxnoQ,2014-11-03]"
      ]
     },
     "execution_count": 32,
     "metadata": {},
     "output_type": "execute_result"
    }
   ],
   "source": [
    "user.head()"
   ]
  },
  {
   "cell_type": "code",
   "execution_count": 33,
   "metadata": {},
   "outputs": [
    {
     "data": {
      "text/plain": [
       "1326101"
      ]
     },
     "execution_count": 33,
     "metadata": {},
     "output_type": "execute_result"
    }
   ],
   "source": [
    "user.count()"
   ]
  },
  {
   "cell_type": "markdown",
   "metadata": {},
   "source": [
    "---"
   ]
  },
  {
   "cell_type": "code",
   "execution_count": 5,
   "metadata": {},
   "outputs": [
    {
     "data": {
      "text/plain": [
       "tip = [business_id: string, date: string ... 3 more fields]\n"
      ]
     },
     "metadata": {},
     "output_type": "display_data"
    },
    {
     "data": {
      "text/plain": [
       "lastException: Throwable = null\n"
      ]
     },
     "metadata": {},
     "output_type": "display_data"
    },
    {
     "data": {
      "text/plain": [
       "[business_id: string, date: string ... 3 more fields]"
      ]
     },
     "execution_count": 5,
     "metadata": {},
     "output_type": "execute_result"
    }
   ],
   "source": [
    "val tip = spark.read.json(s\"$path/tip.json\")"
   ]
  },
  {
   "cell_type": "code",
   "execution_count": 6,
   "metadata": {},
   "outputs": [
    {
     "name": "stdout",
     "output_type": "stream",
     "text": [
      "root\n",
      " |-- business_id: string (nullable = true)\n",
      " |-- date: string (nullable = true)\n",
      " |-- likes: long (nullable = true)\n",
      " |-- text: string (nullable = true)\n",
      " |-- user_id: string (nullable = true)\n",
      "\n"
     ]
    }
   ],
   "source": [
    "tip.printSchema()"
   ]
  },
  {
   "cell_type": "code",
   "execution_count": 7,
   "metadata": {},
   "outputs": [
    {
     "data": {
      "text/plain": [
       "[tJRDll5yqpZwehenzE2cSg,2012-07-15,0,Get here early enough to have dinner.,zcTZk7OG8ovAmh_fenH21g]"
      ]
     },
     "execution_count": 7,
     "metadata": {},
     "output_type": "execute_result"
    }
   ],
   "source": [
    "tip.head()"
   ]
  },
  {
   "cell_type": "code",
   "execution_count": 8,
   "metadata": {},
   "outputs": [
    {
     "data": {
      "text/plain": [
       "1098325"
      ]
     },
     "execution_count": 8,
     "metadata": {},
     "output_type": "execute_result"
    }
   ],
   "source": [
    "tip.count()"
   ]
  },
  {
   "cell_type": "markdown",
   "metadata": {},
   "source": [
    "---\n",
    "\n",
    "So this dataset was straight-forward to load, contents as well as the division into different parts look good. Knowing this, it is straigt forward to write the ETL process to convert the data into a more effective tabular format."
   ]
  }
 ],
 "metadata": {
  "kernelspec": {
   "display_name": "Apache Toree - Scala",
   "language": "scala",
   "name": "apache_toree_scala"
  },
  "language_info": {
   "codemirror_mode": "text/x-scala",
   "file_extension": ".scala",
   "mimetype": "text/x-scala",
   "name": "scala",
   "pygments_lexer": "scala",
   "version": "2.11.8"
  }
 },
 "nbformat": 4,
 "nbformat_minor": 2
}
